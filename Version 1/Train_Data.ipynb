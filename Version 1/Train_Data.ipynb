{
 "cells": [
  {
   "cell_type": "code",
   "execution_count": 29,
   "metadata": {
    "collapsed": true
   },
   "outputs": [],
   "source": [
    "from random import randint\n",
    "import csv\n",
    "import os"
   ]
  },
  {
   "cell_type": "code",
   "execution_count": 30,
   "metadata": {
    "collapsed": true
   },
   "outputs": [],
   "source": [
    "company_list = {'AMERICAN-CANCER-SOCIETY', 'CH2M', 'CVS-Health', 'Gap', 'IBM-Kenexa', 'Macy-s', 'Morgan-Stanley', 'Siemens', 'Turner-Construction-Company', 'UNITED PARCEL SERVICE', 'WilmerHale'}"
   ]
  },
  {
   "cell_type": "code",
   "execution_count": 31,
   "metadata": {
    "collapsed": false
   },
   "outputs": [],
   "source": [
    "# Backup Function\n",
    "# def train_missing_data():\n",
    "#     data = []\n",
    "#     with open (\"Merged_Company_Information.csv\", encoding = 'utf-8', newline = '') as csvfile:\n",
    "#         data_reader = csv.reader(csvfile, delimiter = ',')\n",
    "#         next(data_reader)\n",
    "#         header = [\"Company\",\"Title\",\"Location\",\"Rating\",\"Work/Life Balance\",\"Benefit\",\"Security\",\"Culture\"]\n",
    "#         data.append(header)\n",
    "#         for row in data_reader:\n",
    "#             for i in range((len(row))):\n",
    "#                 if (row[i] == 'none'):\n",
    "#                     row[i] = randint(3, 5)\n",
    "#             data.append(row)\n",
    "#     return data"
   ]
  },
  {
   "cell_type": "code",
   "execution_count": 32,
   "metadata": {
    "collapsed": false
   },
   "outputs": [],
   "source": [
    "def write_data(file, data):\n",
    "    with open(file, 'w') as fp:\n",
    "        wr = csv.writer(fp)\n",
    "        for x in data:\n",
    "            wr.writerow(x)\n",
    "    fp.close()"
   ]
  },
  {
   "cell_type": "code",
   "execution_count": 33,
   "metadata": {
    "collapsed": true
   },
   "outputs": [],
   "source": [
    "def read_company_info(file_name):\n",
    "    data = []\n",
    "    with open(\"Company/\" + file_name, newline = '', encoding = 'utf-8') as csvfile:\n",
    "        datareader = csv.reader(csvfile, delimiter = ',')\n",
    "        next(datareader)\n",
    "        for row in datareader:\n",
    "            for i in range(0, 4):\n",
    "                if (row[0] in company_list):\n",
    "                    rd = randint(0, 4)\n",
    "                    if (rd <= 3):\n",
    "                        row.append(randint(3, 5))\n",
    "                    else:\n",
    "                        row.append(randint(1, 2))\n",
    "                else:\n",
    "                    rd = randint(0, 2)\n",
    "                    if (rd == 0):\n",
    "                        row.append(randint(1,4))\n",
    "                    if (rd == 1):\n",
    "                        row.append(randint(2,5))\n",
    "                    if (rd == 2):\n",
    "                        row.append(randint(3,5))\n",
    "            data.append(row)\n",
    "    return data"
   ]
  },
  {
   "cell_type": "code",
   "execution_count": 34,
   "metadata": {
    "collapsed": true
   },
   "outputs": [],
   "source": [
    "def merge_companies_info():\n",
    "    data = []\n",
    "    header = [\"Company\",\"Title\",\"Location\",\"Rating\",\"Work/Life Balance\",\"Benefit\",\"Security\",\"Culture\"]\n",
    "    data.append(header)\n",
    "    path = cwd + \"/Company\"\n",
    "    files = os.listdir(path)\n",
    "    for file_name in files:\n",
    "        data += read_company_info(file_name)\n",
    "    return data"
   ]
  },
  {
   "cell_type": "code",
   "execution_count": 37,
   "metadata": {
    "collapsed": true
   },
   "outputs": [],
   "source": [
    "def run():\n",
    "    data = merge_companies_info()\n",
    "    write_data('Merged_Company_Information.csv', data)"
   ]
  },
  {
   "cell_type": "code",
   "execution_count": 38,
   "metadata": {
    "collapsed": false
   },
   "outputs": [],
   "source": [
    "run()"
   ]
  },
  {
   "cell_type": "code",
   "execution_count": null,
   "metadata": {
    "collapsed": true
   },
   "outputs": [],
   "source": []
  }
 ],
 "metadata": {
  "anaconda-cloud": {},
  "kernelspec": {
   "display_name": "Python [default]",
   "language": "python",
   "name": "python3"
  },
  "language_info": {
   "codemirror_mode": {
    "name": "ipython",
    "version": 3
   },
   "file_extension": ".py",
   "mimetype": "text/x-python",
   "name": "python",
   "nbconvert_exporter": "python",
   "pygments_lexer": "ipython3",
   "version": "3.5.2"
  }
 },
 "nbformat": 4,
 "nbformat_minor": 1
}
